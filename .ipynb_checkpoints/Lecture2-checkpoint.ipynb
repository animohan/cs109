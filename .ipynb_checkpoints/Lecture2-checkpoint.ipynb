{
 "cells": [
  {
   "cell_type": "code",
   "execution_count": 62,
   "metadata": {
    "collapsed": false
   },
   "outputs": [],
   "source": [
    "## All Imports\n",
    "\n",
    "from IPython.display import HTML\n",
    "import numpy as np\n",
    "#import urllib2\n",
    "import bs4  #Beautiful Soup\n",
    "import time\n",
    "import operator\n",
    "import socket\n",
    "#import cPickle\n",
    "import re\n",
    "\n",
    "from pandas import Series\n",
    "import pandas as pd\n",
    "from pandas import DataFrame\n",
    "\n",
    "import matplotlib\n",
    "import matplotlib.pyplot as plt\n",
    "%matplotlib inline\n",
    "\n",
    "#import seaborn as sns\n",
    "#sns.set_context(\"talk\")\n",
    "#sns.set_style(\"white\")\n",
    "\n",
    "#from secret import *"
   ]
  },
  {
   "cell_type": "code",
   "execution_count": 63,
   "metadata": {
    "collapsed": true
   },
   "outputs": [],
   "source": [
    "#Might need API Registrations for Rotten Tomatoes, Twitter\n",
    "#Rotten tomatoes have stopped registration\n",
    "#Will register as examples require it"
   ]
  },
  {
   "cell_type": "code",
   "execution_count": 64,
   "metadata": {
    "collapsed": false
   },
   "outputs": [
    {
     "data": {
      "text/html": [
       "<div>\n",
       "<table border=\"1\" class=\"dataframe\">\n",
       "  <thead>\n",
       "    <tr style=\"text-align: right;\">\n",
       "      <th></th>\n",
       "      <th>user_id</th>\n",
       "      <th>age</th>\n",
       "      <th>sex</th>\n",
       "      <th>occupation</th>\n",
       "      <th>zip_code</th>\n",
       "    </tr>\n",
       "  </thead>\n",
       "  <tbody>\n",
       "    <tr>\n",
       "      <th>0</th>\n",
       "      <td>1</td>\n",
       "      <td>24</td>\n",
       "      <td>M</td>\n",
       "      <td>technician</td>\n",
       "      <td>85711</td>\n",
       "    </tr>\n",
       "    <tr>\n",
       "      <th>1</th>\n",
       "      <td>2</td>\n",
       "      <td>53</td>\n",
       "      <td>F</td>\n",
       "      <td>other</td>\n",
       "      <td>94043</td>\n",
       "    </tr>\n",
       "    <tr>\n",
       "      <th>2</th>\n",
       "      <td>3</td>\n",
       "      <td>23</td>\n",
       "      <td>M</td>\n",
       "      <td>writer</td>\n",
       "      <td>32067</td>\n",
       "    </tr>\n",
       "    <tr>\n",
       "      <th>3</th>\n",
       "      <td>4</td>\n",
       "      <td>24</td>\n",
       "      <td>M</td>\n",
       "      <td>technician</td>\n",
       "      <td>43537</td>\n",
       "    </tr>\n",
       "    <tr>\n",
       "      <th>4</th>\n",
       "      <td>5</td>\n",
       "      <td>33</td>\n",
       "      <td>F</td>\n",
       "      <td>other</td>\n",
       "      <td>15213</td>\n",
       "    </tr>\n",
       "  </tbody>\n",
       "</table>\n",
       "</div>"
      ],
      "text/plain": [
       "   user_id  age sex  occupation zip_code\n",
       "0        1   24   M  technician    85711\n",
       "1        2   53   F       other    94043\n",
       "2        3   23   M      writer    32067\n",
       "3        4   24   M  technician    43537\n",
       "4        5   33   F       other    15213"
      ]
     },
     "execution_count": 64,
     "metadata": {},
     "output_type": "execute_result"
    }
   ],
   "source": [
    "#Reading data from Movielens under group lens\n",
    "\n",
    "#Reading users data\n",
    "\n",
    "# pass the column names for each column in the csv\n",
    "u_cols = [\"user_id\",\"age\",\"sex\",\"occupation\",\"zip_code\"]\n",
    "\n",
    "#Read the u.user file from group lens database\n",
    "users = pd.read_csv(\n",
    "    'http://files.grouplens.org/datasets/movielens/ml-100k/u.user',\n",
    "    sep = '|', names = u_cols)\n",
    "\n",
    "#top 5 rows from users table\n",
    "users.head()"
   ]
  },
  {
   "cell_type": "code",
   "execution_count": 65,
   "metadata": {
    "collapsed": false
   },
   "outputs": [
    {
     "data": {
      "text/html": [
       "<div>\n",
       "<table border=\"1\" class=\"dataframe\">\n",
       "  <thead>\n",
       "    <tr style=\"text-align: right;\">\n",
       "      <th></th>\n",
       "      <th>user_id</th>\n",
       "      <th>movie_id</th>\n",
       "      <th>rating</th>\n",
       "      <th>unix_timestamp</th>\n",
       "    </tr>\n",
       "  </thead>\n",
       "  <tbody>\n",
       "    <tr>\n",
       "      <th>0</th>\n",
       "      <td>196</td>\n",
       "      <td>242</td>\n",
       "      <td>3</td>\n",
       "      <td>881250949</td>\n",
       "    </tr>\n",
       "    <tr>\n",
       "      <th>1</th>\n",
       "      <td>186</td>\n",
       "      <td>302</td>\n",
       "      <td>3</td>\n",
       "      <td>891717742</td>\n",
       "    </tr>\n",
       "    <tr>\n",
       "      <th>2</th>\n",
       "      <td>22</td>\n",
       "      <td>377</td>\n",
       "      <td>1</td>\n",
       "      <td>878887116</td>\n",
       "    </tr>\n",
       "    <tr>\n",
       "      <th>3</th>\n",
       "      <td>244</td>\n",
       "      <td>51</td>\n",
       "      <td>2</td>\n",
       "      <td>880606923</td>\n",
       "    </tr>\n",
       "    <tr>\n",
       "      <th>4</th>\n",
       "      <td>166</td>\n",
       "      <td>346</td>\n",
       "      <td>1</td>\n",
       "      <td>886397596</td>\n",
       "    </tr>\n",
       "  </tbody>\n",
       "</table>\n",
       "</div>"
      ],
      "text/plain": [
       "   user_id  movie_id  rating  unix_timestamp\n",
       "0      196       242       3       881250949\n",
       "1      186       302       3       891717742\n",
       "2       22       377       1       878887116\n",
       "3      244        51       2       880606923\n",
       "4      166       346       1       886397596"
      ]
     },
     "execution_count": 65,
     "metadata": {},
     "output_type": "execute_result"
    }
   ],
   "source": [
    "#Read the Ratings data\n",
    "\n",
    "#names for the columns for the table\n",
    "r_cols = [\"user_id\", \"movie_id\",\"rating\",\"unix_timestamp\"]\n",
    "\n",
    "#read the rating files; note that the seperator is tab for this file\n",
    "ratings = pd.read_csv(\n",
    "    \"http://files.grouplens.org/datasets/movielens/ml-100k/u.data\",\n",
    "    sep =\"\\t\", names = r_cols)\n",
    "\n",
    "#print the first 5 ratings\n",
    "ratings.head()"
   ]
  },
  {
   "cell_type": "code",
   "execution_count": 66,
   "metadata": {
    "collapsed": false
   },
   "outputs": [
    {
     "data": {
      "text/html": [
       "<div>\n",
       "<table border=\"1\" class=\"dataframe\">\n",
       "  <thead>\n",
       "    <tr style=\"text-align: right;\">\n",
       "      <th></th>\n",
       "      <th>movie_id</th>\n",
       "      <th>title</th>\n",
       "      <th>release_date</th>\n",
       "      <th>video_release_date</th>\n",
       "      <th>imdb_url</th>\n",
       "    </tr>\n",
       "  </thead>\n",
       "  <tbody>\n",
       "    <tr>\n",
       "      <th>0</th>\n",
       "      <td>1</td>\n",
       "      <td>Toy Story (1995)</td>\n",
       "      <td>01-Jan-1995</td>\n",
       "      <td>NaN</td>\n",
       "      <td>http://us.imdb.com/M/title-exact?Toy%20Story%2...</td>\n",
       "    </tr>\n",
       "    <tr>\n",
       "      <th>1</th>\n",
       "      <td>2</td>\n",
       "      <td>GoldenEye (1995)</td>\n",
       "      <td>01-Jan-1995</td>\n",
       "      <td>NaN</td>\n",
       "      <td>http://us.imdb.com/M/title-exact?GoldenEye%20(...</td>\n",
       "    </tr>\n",
       "    <tr>\n",
       "      <th>2</th>\n",
       "      <td>3</td>\n",
       "      <td>Four Rooms (1995)</td>\n",
       "      <td>01-Jan-1995</td>\n",
       "      <td>NaN</td>\n",
       "      <td>http://us.imdb.com/M/title-exact?Four%20Rooms%...</td>\n",
       "    </tr>\n",
       "    <tr>\n",
       "      <th>3</th>\n",
       "      <td>4</td>\n",
       "      <td>Get Shorty (1995)</td>\n",
       "      <td>01-Jan-1995</td>\n",
       "      <td>NaN</td>\n",
       "      <td>http://us.imdb.com/M/title-exact?Get%20Shorty%...</td>\n",
       "    </tr>\n",
       "    <tr>\n",
       "      <th>4</th>\n",
       "      <td>5</td>\n",
       "      <td>Copycat (1995)</td>\n",
       "      <td>01-Jan-1995</td>\n",
       "      <td>NaN</td>\n",
       "      <td>http://us.imdb.com/M/title-exact?Copycat%20(1995)</td>\n",
       "    </tr>\n",
       "  </tbody>\n",
       "</table>\n",
       "</div>"
      ],
      "text/plain": [
       "   movie_id              title release_date  video_release_date  \\\n",
       "0         1   Toy Story (1995)  01-Jan-1995                 NaN   \n",
       "1         2   GoldenEye (1995)  01-Jan-1995                 NaN   \n",
       "2         3  Four Rooms (1995)  01-Jan-1995                 NaN   \n",
       "3         4  Get Shorty (1995)  01-Jan-1995                 NaN   \n",
       "4         5     Copycat (1995)  01-Jan-1995                 NaN   \n",
       "\n",
       "                                            imdb_url  \n",
       "0  http://us.imdb.com/M/title-exact?Toy%20Story%2...  \n",
       "1  http://us.imdb.com/M/title-exact?GoldenEye%20(...  \n",
       "2  http://us.imdb.com/M/title-exact?Four%20Rooms%...  \n",
       "3  http://us.imdb.com/M/title-exact?Get%20Shorty%...  \n",
       "4  http://us.imdb.com/M/title-exact?Copycat%20(1995)  "
      ]
     },
     "execution_count": 66,
     "metadata": {},
     "output_type": "execute_result"
    }
   ],
   "source": [
    "#Data about the movies\n",
    "\n",
    "#The movies file contains more than 5 columns, but we are only considering\n",
    "# the first five columns\n",
    "\n",
    "#Naming the first five columns\n",
    "m_cols =[\"movie_id\",\"title\",\"release_date\",\"video_release_date\",\"imdb_url\"]\n",
    "\n",
    "movies = pd.read_csv(\n",
    "    \"http://files.grouplens.org/datasets/movielens/ml-100k/u.item\",\n",
    "    sep = \"|\", names = m_cols, usecols = range(5)) #usecols considers columns\n",
    "                                                #specified\n",
    "#print the first 5 movies\n",
    "movies.head()"
   ]
  },
  {
   "cell_type": "code",
   "execution_count": 67,
   "metadata": {
    "collapsed": false
   },
   "outputs": [
    {
     "name": "stdout",
     "output_type": "stream",
     "text": [
      "movie_id                int64\n",
      "title                  object\n",
      "release_date           object\n",
      "video_release_date    float64\n",
      "imdb_url               object\n",
      "dtype: object\n",
      "\n",
      "          movie_id  video_release_date\n",
      "count  1682.000000                 0.0\n",
      "mean    841.500000                 NaN\n",
      "std     485.695893                 NaN\n",
      "min       1.000000                 NaN\n",
      "25%     421.250000                 NaN\n",
      "50%     841.500000                 NaN\n",
      "75%    1261.750000                 NaN\n",
      "max    1682.000000                 NaN\n"
     ]
    }
   ],
   "source": [
    "#Getting some information about the data\n",
    "print(movies.dtypes) #Gives information about the content of each column\n",
    "                     # as interpreted by python\n",
    "print()\n",
    "print(movies.describe()) #.describe find the columns that are numerical\n",
    "                        # (and not objects or complex) and provides general\n",
    "                        # statistics about it.\n",
    "#Note the only columns that are chose are movie_id = int64 and video_release\n",
    "#_date that is float 64"
   ]
  },
  {
   "cell_type": "code",
   "execution_count": 68,
   "metadata": {
    "collapsed": false
   },
   "outputs": [
    {
     "name": "stdout",
     "output_type": "stream",
     "text": [
      "User table data\n",
      "    user_id  age sex  occupation zip_code\n",
      "0        1   24   M  technician    85711\n",
      "1        2   53   F       other    94043\n",
      "2        3   23   M      writer    32067\n",
      "3        4   24   M  technician    43537\n",
      "4        5   33   F       other    15213 \n",
      "\n",
      "Data about User's occupation\n",
      "0    technician\n",
      "1         other\n",
      "2        writer\n",
      "3    technician\n",
      "4         other\n",
      "Name: occupation, dtype: object\n",
      "\n",
      "\n",
      "User's occupation and Sex\n",
      "   occupation sex\n",
      "0  technician   M\n",
      "1       other   F\n",
      "2      writer   M\n",
      "3  technician   M\n",
      "4       other   F\n",
      "\n",
      "Another way to get user's sex and occupation\n",
      "   occupation sex\n",
      "0  technician   M\n",
      "1       other   F\n",
      "2      writer   M\n",
      "3  technician   M\n",
      "4       other   F\n"
     ]
    }
   ],
   "source": [
    "#Selecting specific data from a set\n",
    "\n",
    "print(\"User table data\\n\", users.head(),\"\\n\") #Just to see what data is in users\n",
    "\n",
    "print(\"Data about User's occupation\")\n",
    "print(users[\"occupation\"].head()) #just first five occupation\n",
    "print()\n",
    "#print specific columns\n",
    "modtable = users[[\"occupation\",\"sex\"]] #note enty insider users is a list\n",
    "\n",
    "print(\"\\nUser's occupation and Sex\")\n",
    "print(modtable.head()) #new table that contains just user's sex and occ\n",
    "\n",
    "print()\n",
    "newcol = [\"occupation\",\"sex\"] #you can assign the names to a new var\n",
    "modtable2 = users[newcol] #and get use that var to get data from dataframe\n",
    "print(\"Another way to get user's sex and occupation\")\n",
    "print(modtable2.head())"
   ]
  },
  {
   "cell_type": "code",
   "execution_count": 69,
   "metadata": {
    "collapsed": false
   },
   "outputs": [
    {
     "name": "stdout",
     "output_type": "stream",
     "text": [
      "Result of filtering\n",
      "0    False\n",
      "1     True\n",
      "2    False\n",
      "3    False\n",
      "4     True\n",
      "Name: age, dtype: bool \n",
      "\n",
      "Apply the filtering\n",
      "   user_id  age sex     occupation zip_code\n",
      "1        2   53   F          other    94043\n",
      "4        5   33   F          other    15213\n",
      "5        6   42   M      executive    98101\n",
      "6        7   57   M  administrator    91344\n",
      "7        8   36   M  administrator    05201\n",
      "\n",
      "   user_id  age sex     occupation zip_code\n",
      "1        2   53   F          other    94043\n",
      "4        5   33   F          other    15213\n",
      "5        6   42   M      executive    98101\n",
      "6        7   57   M  administrator    91344\n",
      "7        8   36   M  administrator    05201\n",
      "\n"
     ]
    },
    {
     "data": {
      "text/html": [
       "<div>\n",
       "<table border=\"1\" class=\"dataframe\">\n",
       "  <thead>\n",
       "    <tr style=\"text-align: right;\">\n",
       "      <th></th>\n",
       "      <th>user_id</th>\n",
       "      <th>age</th>\n",
       "      <th>sex</th>\n",
       "      <th>occupation</th>\n",
       "      <th>zip_code</th>\n",
       "    </tr>\n",
       "  </thead>\n",
       "  <tbody>\n",
       "    <tr>\n",
       "      <th>1</th>\n",
       "      <td>2</td>\n",
       "      <td>53</td>\n",
       "      <td>F</td>\n",
       "      <td>other</td>\n",
       "      <td>94043</td>\n",
       "    </tr>\n",
       "    <tr>\n",
       "      <th>4</th>\n",
       "      <td>5</td>\n",
       "      <td>33</td>\n",
       "      <td>F</td>\n",
       "      <td>other</td>\n",
       "      <td>15213</td>\n",
       "    </tr>\n",
       "    <tr>\n",
       "      <th>5</th>\n",
       "      <td>6</td>\n",
       "      <td>42</td>\n",
       "      <td>M</td>\n",
       "      <td>executive</td>\n",
       "      <td>98101</td>\n",
       "    </tr>\n",
       "    <tr>\n",
       "      <th>6</th>\n",
       "      <td>7</td>\n",
       "      <td>57</td>\n",
       "      <td>M</td>\n",
       "      <td>administrator</td>\n",
       "      <td>91344</td>\n",
       "    </tr>\n",
       "    <tr>\n",
       "      <th>7</th>\n",
       "      <td>8</td>\n",
       "      <td>36</td>\n",
       "      <td>M</td>\n",
       "      <td>administrator</td>\n",
       "      <td>05201</td>\n",
       "    </tr>\n",
       "  </tbody>\n",
       "</table>\n",
       "</div>"
      ],
      "text/plain": [
       "   user_id  age sex     occupation zip_code\n",
       "1        2   53   F          other    94043\n",
       "4        5   33   F          other    15213\n",
       "5        6   42   M      executive    98101\n",
       "6        7   57   M  administrator    91344\n",
       "7        8   36   M  administrator    05201"
      ]
     },
     "execution_count": 69,
     "metadata": {},
     "output_type": "execute_result"
    }
   ],
   "source": [
    "#Filtering data\n",
    "\n",
    "#select data for users older than 25\n",
    "above25 = users[\"age\"]>25 #Gives a true/false \n",
    "print(\"Result of filtering\")\n",
    "print(above25.head(),\"\\n\")\n",
    "\n",
    "print(\"Apply the filtering\")\n",
    "print(users[above25].head()) \n",
    "print()\n",
    "#Another way\n",
    "print(users[users.age>25].head())\n",
    "print()\n",
    "users[users.age>25].head() #Not sure if the output format difference\n",
    "                            # are worth looking, but fyi\n",
    "\n"
   ]
  },
  {
   "cell_type": "code",
   "execution_count": 70,
   "metadata": {
    "collapsed": false
   },
   "outputs": [
    {
     "data": {
      "text/html": [
       "<div>\n",
       "<table border=\"1\" class=\"dataframe\">\n",
       "  <thead>\n",
       "    <tr style=\"text-align: right;\">\n",
       "      <th></th>\n",
       "      <th>user_id</th>\n",
       "      <th>age</th>\n",
       "      <th>sex</th>\n",
       "      <th>occupation</th>\n",
       "      <th>zip_code</th>\n",
       "    </tr>\n",
       "  </thead>\n",
       "  <tbody>\n",
       "    <tr>\n",
       "      <th>5</th>\n",
       "      <td>6</td>\n",
       "      <td>42</td>\n",
       "      <td>M</td>\n",
       "      <td>executive</td>\n",
       "      <td>98101</td>\n",
       "    </tr>\n",
       "    <tr>\n",
       "      <th>6</th>\n",
       "      <td>7</td>\n",
       "      <td>57</td>\n",
       "      <td>M</td>\n",
       "      <td>administrator</td>\n",
       "      <td>91344</td>\n",
       "    </tr>\n",
       "    <tr>\n",
       "      <th>9</th>\n",
       "      <td>10</td>\n",
       "      <td>53</td>\n",
       "      <td>M</td>\n",
       "      <td>lawyer</td>\n",
       "      <td>90703</td>\n",
       "    </tr>\n",
       "    <tr>\n",
       "      <th>12</th>\n",
       "      <td>13</td>\n",
       "      <td>47</td>\n",
       "      <td>M</td>\n",
       "      <td>educator</td>\n",
       "      <td>29206</td>\n",
       "    </tr>\n",
       "    <tr>\n",
       "      <th>13</th>\n",
       "      <td>14</td>\n",
       "      <td>45</td>\n",
       "      <td>M</td>\n",
       "      <td>scientist</td>\n",
       "      <td>55106</td>\n",
       "    </tr>\n",
       "  </tbody>\n",
       "</table>\n",
       "</div>"
      ],
      "text/plain": [
       "    user_id  age sex     occupation zip_code\n",
       "5         6   42   M      executive    98101\n",
       "6         7   57   M  administrator    91344\n",
       "9        10   53   M         lawyer    90703\n",
       "12       13   47   M       educator    29206\n",
       "13       14   45   M      scientist    55106"
      ]
     },
     "execution_count": 70,
     "metadata": {},
     "output_type": "execute_result"
    }
   ],
   "source": [
    "#Find users above 40 and are male\n",
    "users.dtypes\n",
    "users[(users.age>40) & (users.sex==\"M\")].head()"
   ]
  },
  {
   "cell_type": "code",
   "execution_count": 71,
   "metadata": {
    "collapsed": false
   },
   "outputs": [
    {
     "name": "stdout",
     "output_type": "stream",
     "text": [
      "          user_id        age\n",
      "count    6.000000   6.000000\n",
      "mean   411.166667  32.166667\n",
      "std    149.987222   5.115336\n",
      "min    292.000000  26.000000\n",
      "25%    313.000000  28.250000\n",
      "50%    378.000000  32.000000\n",
      "75%    416.750000  36.500000\n",
      "max    698.000000  38.000000 \n",
      "\n",
      "One more way for mean 32.166666666666664\n",
      "user_id    411.166667\n",
      "age         32.166667\n",
      "dtype: float64\n",
      "\n",
      "user_id    411.166667\n",
      "age         32.166667\n",
      "dtype: float64\n"
     ]
    }
   ],
   "source": [
    "#show the mean age for women programmers\n",
    "selected_users = users[(users.sex == \"F\") & (users.occupation ==\"programmer\")]\n",
    "print(selected_users.describe(),\"\\n\")\n",
    "\n",
    "# one more way\n",
    "print(\"One more way for mean\", selected_users.age.mean())\n",
    "#describe gives stat for every numerical columns\n",
    "print(users[(users[\"sex\"]==\"F\") & (users[\"occupation\"]==\"programmer\")].mean())\n",
    "print()\n",
    "print(users[(users.sex==\"F\") & (users.occupation==\"programmer\")].mean())"
   ]
  },
  {
   "cell_type": "code",
   "execution_count": 72,
   "metadata": {
    "collapsed": true
   },
   "outputs": [],
   "source": [
    "#Split and combine:\n",
    "# Splitting the groups into data based on criteria\n",
    "# applying a common function to each group independently\n",
    "# combining the data\n",
    "\n",
    "\n",
    "#Find the users who provided a lot of ratings:\n",
    "\n",
    "#Method:\n",
    "    # Split data per user ID\n",
    "    # Count the ratings\n",
    "    # combine the result"
   ]
  },
  {
   "cell_type": "code",
   "execution_count": 73,
   "metadata": {
    "collapsed": false
   },
   "outputs": [
    {
     "name": "stdout",
     "output_type": "stream",
     "text": [
      "   user_id  movie_id  rating  unix_timestamp\n",
      "0      196       242       3       881250949\n",
      "1      186       302       3       891717742\n",
      "2       22       377       1       878887116\n",
      "3      244        51       2       880606923\n",
      "4      166       346       1       886397596\n",
      "         movie_id  rating  unix_timestamp\n",
      "user_id                                  \n",
      "1             272     272             272\n",
      "2              62      62              62\n",
      "3              54      54              54\n",
      "4              24      24              24\n",
      "5             175     175             175\n"
     ]
    },
    {
     "data": {
      "text/html": [
       "<div>\n",
       "<table border=\"1\" class=\"dataframe\">\n",
       "  <thead>\n",
       "    <tr style=\"text-align: right;\">\n",
       "      <th></th>\n",
       "      <th>movie_id</th>\n",
       "      <th>rating</th>\n",
       "      <th>unix_timestamp</th>\n",
       "    </tr>\n",
       "    <tr>\n",
       "      <th>user_id</th>\n",
       "      <th></th>\n",
       "      <th></th>\n",
       "      <th></th>\n",
       "    </tr>\n",
       "  </thead>\n",
       "  <tbody>\n",
       "    <tr>\n",
       "      <th>405</th>\n",
       "      <td>737</td>\n",
       "      <td>737</td>\n",
       "      <td>737</td>\n",
       "    </tr>\n",
       "    <tr>\n",
       "      <th>655</th>\n",
       "      <td>685</td>\n",
       "      <td>685</td>\n",
       "      <td>685</td>\n",
       "    </tr>\n",
       "    <tr>\n",
       "      <th>13</th>\n",
       "      <td>636</td>\n",
       "      <td>636</td>\n",
       "      <td>636</td>\n",
       "    </tr>\n",
       "    <tr>\n",
       "      <th>450</th>\n",
       "      <td>540</td>\n",
       "      <td>540</td>\n",
       "      <td>540</td>\n",
       "    </tr>\n",
       "    <tr>\n",
       "      <th>276</th>\n",
       "      <td>518</td>\n",
       "      <td>518</td>\n",
       "      <td>518</td>\n",
       "    </tr>\n",
       "    <tr>\n",
       "      <th>416</th>\n",
       "      <td>493</td>\n",
       "      <td>493</td>\n",
       "      <td>493</td>\n",
       "    </tr>\n",
       "    <tr>\n",
       "      <th>537</th>\n",
       "      <td>490</td>\n",
       "      <td>490</td>\n",
       "      <td>490</td>\n",
       "    </tr>\n",
       "    <tr>\n",
       "      <th>303</th>\n",
       "      <td>484</td>\n",
       "      <td>484</td>\n",
       "      <td>484</td>\n",
       "    </tr>\n",
       "    <tr>\n",
       "      <th>234</th>\n",
       "      <td>480</td>\n",
       "      <td>480</td>\n",
       "      <td>480</td>\n",
       "    </tr>\n",
       "    <tr>\n",
       "      <th>393</th>\n",
       "      <td>448</td>\n",
       "      <td>448</td>\n",
       "      <td>448</td>\n",
       "    </tr>\n",
       "  </tbody>\n",
       "</table>\n",
       "</div>"
      ],
      "text/plain": [
       "         movie_id  rating  unix_timestamp\n",
       "user_id                                  \n",
       "405           737     737             737\n",
       "655           685     685             685\n",
       "13            636     636             636\n",
       "450           540     540             540\n",
       "276           518     518             518\n",
       "416           493     493             493\n",
       "537           490     490             490\n",
       "303           484     484             484\n",
       "234           480     480             480\n",
       "393           448     448             448"
      ]
     },
     "execution_count": 73,
     "metadata": {},
     "output_type": "execute_result"
    }
   ],
   "source": [
    "print(ratings.head())\n",
    "#Look at the data; i\n",
    "\n",
    "grouped_data = ratings.groupby(\"user_id\") #Splitting the data on userid\n",
    "                                        #Accumulating the data per user\n",
    "ratings_per_user= grouped_data.count() #Apply the count function, ratings per user\n",
    "print(ratings_per_user.head())\n",
    "#Because we split the entire data frame by user id we get the coutns for\n",
    "#movie ids, ratings and unix-timestamps\n",
    "\n",
    "#lets sort to find the top 10 user ids who have given most rating\n",
    "ratings_per_user.sort_values(by = \"rating\", ascending = False).head(10)\n",
    "#sort_values method; needs \"by = \"<which column>\" and sort order"
   ]
  },
  {
   "cell_type": "code",
   "execution_count": 79,
   "metadata": {
    "collapsed": false
   },
   "outputs": [
    {
     "name": "stdout",
     "output_type": "stream",
     "text": [
      "0    242\n",
      "1    302\n",
      "2    377\n",
      "3     51\n",
      "4    346\n",
      "Name: movie_id, dtype: int64 \n",
      "\n",
      "0    196\n",
      "1    186\n",
      "2     22\n",
      "3    244\n",
      "4    166\n",
      "Name: user_id, dtype: int64\n",
      "Object type =  <class 'pandas.core.groupby.SeriesGroupBy'>\n",
      "Object type <class 'pandas.core.series.Series'>\n",
      "\n",
      "Rating per user  user_id\n",
      "1    272\n",
      "2     62\n",
      "3     54\n",
      "4     24\n",
      "5    175\n",
      "dtype: int64\n"
     ]
    },
    {
     "data": {
      "text/plain": [
       "user_id\n",
       "405    737\n",
       "655    685\n",
       "13     636\n",
       "450    540\n",
       "276    518\n",
       "dtype: int64"
      ]
     },
     "execution_count": 79,
     "metadata": {},
     "output_type": "execute_result"
    }
   ],
   "source": [
    "#Another version is if we just want movie ids being counted\n",
    "col_names =[\"user id\",\"total ratings\"]\n",
    "\n",
    "print(ratings[\"movie_id\"].head(),\"\\n\") #just gives index and movie id\n",
    "print(ratings[\"user_id\"].head()) #just gives user index and user ids\n",
    "\n",
    "group_user_rating = ratings[\"movie_id\"].groupby(ratings[\"user_id\"])\n",
    "#ratings[\"movie_id\"] == just get the movie ids\n",
    "# .groupby(rating[\"user_id\" ]) == group the movie ids by the user_id\n",
    "\n",
    "#Note: group_user_rating is not a dataframe; it is a SeriesGroupby object\n",
    "print(\"Object type = \", type(group_user_rating)) # It is kind of a \n",
    "        #dictionary where indices are user_ids and values are movie id\n",
    "  \n",
    "rating_per_user = group_user_rating.count()\n",
    "print(\"Object type\", type(rating_per_user)) #Series object\n",
    "print(\"\\nRating per user \", rating_per_user.head())  #index = user id and values are counts of movies\n",
    "                    #rated\n",
    "    \n",
    "print(\"Sorted list of # of ratings per user\")\n",
    "rating_per_user.sort_values(ascending = False).head()\n",
    "\n",
    "\n"
   ]
  },
  {
   "cell_type": "code",
   "execution_count": 75,
   "metadata": {
    "collapsed": false
   },
   "outputs": [
    {
     "name": "stdout",
     "output_type": "stream",
     "text": [
      "             user_id    rating  unix_timestamp\n",
      "movie_id                                      \n",
      "1         477.011062  3.878319    8.828054e+08\n",
      "2         492.007634  3.206107    8.834174e+08\n",
      "3         459.133333  3.033333    8.822269e+08\n",
      "4         469.497608  3.550239    8.827175e+08\n",
      "5         439.372093  3.302326    8.825882e+08\n",
      "\n",
      "Type of 'Good Movie' object <class 'pandas.core.frame.DataFrame'>\n",
      "\n",
      "Int64Index([814, 1122, 1189, 1201, 1293, 1467, 1500, 1536, 1599, 1653], dtype='int64', name='movie_id')\n"
     ]
    },
    {
     "data": {
      "text/plain": [
       "813                         Great Day in Harlem, A (1994)\n",
       "1121                       They Made Me a Criminal (1939)\n",
       "1188                                   Prefontaine (1997)\n",
       "1200           Marlene Dietrich: Shadow and Light (1996) \n",
       "1292                                      Star Kid (1997)\n",
       "1466                 Saint of Fort Washington, The (1993)\n",
       "1499                            Santa with Muscles (1996)\n",
       "1535                                 Aiqing wansui (1994)\n",
       "1598                        Someone Else's America (1995)\n",
       "1652    Entertaining Angels: The Dorothy Day Story (1996)\n",
       "Name: title, dtype: object"
      ]
     },
     "execution_count": 75,
     "metadata": {},
     "output_type": "execute_result"
    }
   ],
   "source": [
    "#Get the average rating per movie\n",
    "group_movie_rating = ratings.groupby(ratings[\"movie_id\"])\n",
    "mean_movie_rating = group_movie_rating.mean()\n",
    "print(mean_movie_rating.head())\n",
    "\n",
    "#Find the maximum movie rating\n",
    "maximum_rating = mean_movie_rating[\"rating\"].max()\n",
    "good_movie = mean_movie_rating[mean_movie_rating.rating == maximum_rating]\n",
    "print(\"\\nType of 'Good Movie' object\", type(good_movie))\n",
    "        #good_movie is a DataFrame object\n",
    "print()\n",
    "\n",
    "good_movie_ids = good_movie.index #Note we had to use index to get the movie id\n",
    "print(good_movie_ids)\n",
    "good_movie_name = movies[movies.movie_id.isin(good_movie_ids)].title #Note he\n",
    "                            # isin call; setting movie.movie_id==good_movie_ids\n",
    "                            # does not work\n",
    "good_movie_name\n"
   ]
  },
  {
   "cell_type": "code",
   "execution_count": 80,
   "metadata": {
    "collapsed": false
   },
   "outputs": [
    {
     "name": "stdout",
     "output_type": "stream",
     "text": [
      "Average movie rating\n",
      " movie_id\n",
      "1    3.878319\n",
      "2    3.206107\n",
      "3    3.033333\n",
      "4    3.550239\n",
      "5    3.302326\n",
      "Name: rating, dtype: float64\n",
      "813                         Great Day in Harlem, A (1994)\n",
      "1121                       They Made Me a Criminal (1939)\n",
      "1188                                   Prefontaine (1997)\n",
      "1200           Marlene Dietrich: Shadow and Light (1996) \n",
      "1292                                      Star Kid (1997)\n",
      "1466                 Saint of Fort Washington, The (1993)\n",
      "1499                            Santa with Muscles (1996)\n",
      "1535                                 Aiqing wansui (1994)\n",
      "1598                        Someone Else's America (1995)\n",
      "1652    Entertaining Angels: The Dorothy Day Story (1996)\n",
      "Name: title, dtype: object\n"
     ]
    }
   ],
   "source": [
    "#Another way: Get average rating per movie\n",
    "group_movie_rating = ratings[\"rating\"].groupby(ratings[\"movie_id\"])\n",
    "    #Create at a table with ratings grouped by movie_id\n",
    "    \n",
    "avg_movie_rating = group_movie_rating.mean() #Calculate the mean for each movie_id\n",
    "maximum_rating = max(avg_movie_rating)\n",
    "print(\"Average movie rating\\n\", avg_movie_rating.head())\n",
    "\n",
    "movieid_maxrating = avg_movie_rating[avg_movie_rating == maximum_rating].index\n",
    "                #Note that in this scenario,could not use\n",
    "                #avg_movie_rating.rating, but had to use avg_movie_rating\n",
    "                #as the column name\n",
    "            \n",
    "                #Had to use .index just to get a list of movie ides\n",
    "                            \n",
    "good_movie_names = movies[movies.movie_id.isin(movieid_maxrating)].title\n",
    "print(good_movie_names)"
   ]
  },
  {
   "cell_type": "code",
   "execution_count": 100,
   "metadata": {
    "collapsed": false
   },
   "outputs": [
    {
     "name": "stdout",
     "output_type": "stream",
     "text": [
      "Movie IDs and Ratings for movies with max avg rating\n",
      "\n",
      "       user_id  movie_id  rating  unix_timestamp\n",
      "4545        87      1189       5       879877951\n",
      "6126       279      1500       5       875306613\n",
      "6519        13       814       5       886302261\n",
      "12314      385      1536       5       879441339\n",
      "23044      489      1293       5       891446623\n",
      "43688      437      1599       5       880142614\n",
      "45350      519      1293       5       883250148\n",
      "47866      675      1653       5       889489913\n",
      "49046      146      1293       5       891458080\n",
      "62150      416      1189       5       893213917\n",
      "62282      244      1467       5       880605553\n",
      "65288      532      1189       5       892521554\n",
      "77635       60      1122       5       883326498\n",
      "78008       90      1201       5       891383687\n",
      "95364      781      1500       5       879634096\n",
      "97057      886      1467       5       876033987\n",
      "\n",
      "{1536: [12314], 1201: [78008], 1653: [47866], 1189: [4545, 62150, 65288], 1122: [77635], 1467: [62282, 97057], 1500: [6126, 95364], 1293: [23044, 45350, 49046], 814: [6519], 1599: [43688]}\n"
     ]
    },
    {
     "data": {
      "text/plain": [
       "movie_id\n",
       "814     1\n",
       "1122    1\n",
       "1189    3\n",
       "1201    1\n",
       "1293    3\n",
       "1467    2\n",
       "1500    2\n",
       "1536    1\n",
       "1599    1\n",
       "1653    1\n",
       "dtype: int64"
      ]
     },
     "execution_count": 100,
     "metadata": {},
     "output_type": "execute_result"
    }
   ],
   "source": [
    "#The movies with high rating are unknown. How many ratings did they recieve?\n",
    "\n",
    "listrating = ratings[ratings.movie_id.isin(movieid_maxrating)]\n",
    "print(\"Movie IDs and Ratings for movies with max avg rating\\n\")\n",
    "print(listrating.head(20))\n",
    "\n",
    "count5rating = listrating[\"rating\"].groupby(listrating[\"movie_id\"])\n",
    "#Here we find a list of ratings grouped by their movie_ids\n",
    "\n",
    "#As discovered earlier the groupby object is like a dictionary\n",
    "#In the group by object, we have the movie_id as the index of the \n",
    "# dictionary and the index of movies in the original rating database\n",
    "# as the values of the dictionary\n",
    "print()\n",
    "print(count5rating.groups)\n",
    "#E.g here it shows 1189 = movie id and 4545, 62150 and 65288 as the\n",
    "#values of indices for original dataset that gave 5 rating.\n",
    "\n",
    "#Now just count the number of ratings.\n",
    "count5rating.count()"
   ]
  },
  {
   "cell_type": "code",
   "execution_count": 130,
   "metadata": {
    "collapsed": false
   },
   "outputs": [
    {
     "name": "stdout",
     "output_type": "stream",
     "text": [
      "   user_id  age sex  occupation zip_code\n",
      "0        1   24   M  technician    85711\n",
      "1        2   53   F       other    94043\n",
      "2        3   23   M      writer    32067\n",
      "3        4   24   M  technician    43537\n",
      "4        5   33   F       other    15213\n",
      "   movie_id              title release_date  video_release_date  \\\n",
      "0         1   Toy Story (1995)  01-Jan-1995                 NaN   \n",
      "1         2   GoldenEye (1995)  01-Jan-1995                 NaN   \n",
      "2         3  Four Rooms (1995)  01-Jan-1995                 NaN   \n",
      "3         4  Get Shorty (1995)  01-Jan-1995                 NaN   \n",
      "4         5     Copycat (1995)  01-Jan-1995                 NaN   \n",
      "\n",
      "                                            imdb_url  \n",
      "0  http://us.imdb.com/M/title-exact?Toy%20Story%2...  \n",
      "1  http://us.imdb.com/M/title-exact?GoldenEye%20(...  \n",
      "2  http://us.imdb.com/M/title-exact?Four%20Rooms%...  \n",
      "3  http://us.imdb.com/M/title-exact?Get%20Shorty%...  \n",
      "4  http://us.imdb.com/M/title-exact?Copycat%20(1995)  \n",
      "   user_id  movie_id  rating  unix_timestamp\n",
      "0      196       242       3       881250949\n",
      "1      186       302       3       891717742\n",
      "2       22       377       1       878887116\n",
      "3      244        51       2       880606923\n",
      "4      166       346       1       886397596\n"
     ]
    },
    {
     "data": {
      "text/plain": [
       "array([ True,  True, False, ..., False, False, False], dtype=bool)"
      ]
     },
     "execution_count": 130,
     "metadata": {},
     "output_type": "execute_result"
    }
   ],
   "source": [
    "#Excercise: Try to get list of movies that have more than 100 rating\n",
    "#and have highest average rating\n",
    "print(users.head())\n",
    "print(movies.head())\n",
    "print(ratings.head())\n",
    "\n",
    "#Movies with greater than 100 ratings\n",
    "ratings_per_movie = ratings[\"rating\"].groupby(ratings[\"movie_id\"])\n",
    "ratings_greater100 = ratings_per_movie.count()>100\n",
    "#NEED TO THINK\n"
   ]
  },
  {
   "cell_type": "code",
   "execution_count": 91,
   "metadata": {
    "collapsed": false
   },
   "outputs": [
    {
     "data": {
      "text/plain": [
       "movie_id\n",
       "1    3.878319\n",
       "2    3.206107\n",
       "3    3.033333\n",
       "4    3.550239\n",
       "5    3.302326\n",
       "dtype: float64"
      ]
     },
     "execution_count": 91,
     "metadata": {},
     "output_type": "execute_result"
    }
   ],
   "source": [
    "#Passing a function\n",
    "average_ratings = group_movie_rating.apply(lambda f: f.mean())\n",
    "average_ratings.head()"
   ]
  },
  {
   "cell_type": "code",
   "execution_count": null,
   "metadata": {
    "collapsed": true
   },
   "outputs": [],
   "source": [
    "#Quiz:\n",
    "#Get the average rating per user\n",
    "# Advance: List all occupation and if they are male or female dominant"
   ]
  }
 ],
 "metadata": {
  "kernelspec": {
   "display_name": "Python 3",
   "language": "python",
   "name": "python3"
  },
  "language_info": {
   "codemirror_mode": {
    "name": "ipython",
    "version": 3
   },
   "file_extension": ".py",
   "mimetype": "text/x-python",
   "name": "python",
   "nbconvert_exporter": "python",
   "pygments_lexer": "ipython3",
   "version": "3.5.1"
  }
 },
 "nbformat": 4,
 "nbformat_minor": 0
}
