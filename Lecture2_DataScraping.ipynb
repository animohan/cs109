{
 "cells": [
  {
   "cell_type": "code",
   "execution_count": 106,
   "metadata": {
    "collapsed": false
   },
   "outputs": [
    {
     "name": "stdout",
     "output_type": "stream",
     "text": [
      "Is there Alice: -1\n"
     ]
    }
   ],
   "source": [
    "import bs4\n",
    "import urllib.request\n",
    "\n",
    "url = \"http://www.crummy.com/software/BeautifulSoup/\"\n",
    "source = urllib.request.urlopen(url)\n",
    "#string = source.read() #just doing read gives an object, have to decode it\n",
    "string = source.read().decode(\"utf8\")\n",
    "print(\"Is there Alice:\",string.find(\"Alice\"))\n",
    "\n"
   ]
  },
  {
   "cell_type": "code",
   "execution_count": 107,
   "metadata": {
    "collapsed": false
   },
   "outputs": [
    {
     "name": "stdout",
     "output_type": "stream",
     "text": [
      "Count of word soup: 41\n"
     ]
    }
   ],
   "source": [
    "#Quiz:\n",
    "# Is the word \"Alice\" mentioned in the beautiful soup homepage\n",
    "#string.find(source,\"alice\")\n",
    "print(\"Count of word soup:\",string.count(\"Soup\"))"
   ]
  },
  {
   "cell_type": "code",
   "execution_count": 65,
   "metadata": {
    "collapsed": false
   },
   "outputs": [
    {
     "data": {
      "text/plain": [
       "bs4.BeautifulSoup"
      ]
     },
     "execution_count": 65,
     "metadata": {},
     "output_type": "execute_result"
    }
   ],
   "source": [
    "soup = bs4.BeautifulSoup(string,\"lxml\") \n",
    "#lxml is an html parser;\n",
    "type(soup) #Beautiful soup object"
   ]
  },
  {
   "cell_type": "code",
   "execution_count": 71,
   "metadata": {
    "collapsed": false
   },
   "outputs": [
    {
     "name": "stdout",
     "output_type": "stream",
     "text": [
      "[<a href=\"#Download\">Download</a>, <a href=\"bs4/doc/\">Documentation</a>, <a href=\"#HallOfFame\">Hall of Fame</a>, <a href=\"https://code.launchpad.net/beautifulsoup\">Source</a>]\n"
     ]
    }
   ],
   "source": [
    "#Using beatuful soup we can extract information\n",
    "#print(soup.prettify()) #Too long text, hence commenting\n",
    "\n",
    "#find all <a> tags\n",
    "soup.findAll(\"a\")  #beautful soup only looks for tag a, not occurence of \n",
    "        # all as\n",
    "print(soup.findAll(\"a\")[1:5]) #printing top 5 hrefs or <a> tags"
   ]
  },
  {
   "cell_type": "code",
   "execution_count": 105,
   "metadata": {
    "collapsed": false
   },
   "outputs": [
    {
     "name": "stdout",
     "output_type": "stream",
     "text": [
      "bs4/download/\n",
      "#Download\n",
      "bs4/doc/\n",
      "#HallOfFame\n",
      "https://code.launchpad.net/beautifulsoup\n",
      "https://groups.google.com/forum/?fromgroups#!forum/beautifulsoup\n",
      "http://www.candlemarkandgleam.com/shop/constellation-games/\n",
      "http://constellation.crummy.com/Constellation%20Games%20excerpt.html\n",
      "https://groups.google.com/forum/?fromgroups#!forum/beautifulsoup\n",
      "https://bugs.launchpad.net/beautifulsoup/\n",
      "http://lxml.de/\n",
      "http://code.google.com/p/html5lib/\n",
      "bs4/doc/\n",
      "bs4/download/\n",
      "http://www.crummy.com/software/BeautifulSoup/bs3/documentation.html\n",
      "download/3.x/BeautifulSoup-3.2.1.tar.gz\n",
      "http://www.nytimes.com/2007/10/25/arts/design/25vide.html\n",
      "https://github.com/reddit/reddit/blob/85f9cff3e2ab9bb8f19b96acd8da4ebacc079f04/r2/r2/lib/media.py\n",
      "http://www.harrowell.org.uk/viktormap.html\n",
      "http://svn.python.org/view/tracker/importer/\n",
      "http://www2.ljworld.com/\n",
      "http://www.b-list.org/weblog/2010/nov/02/news-done-broke/\n",
      "http://esrl.noaa.gov/gsd/fab/\n",
      "http://laps.noaa.gov/topograbber/\n",
      "http://groups.google.com/group/beautifulsoup/\n",
      "https://launchpad.net/beautifulsoup\n",
      "https://code.launchpad.net/beautifulsoup/\n",
      "https://bugs.launchpad.net/beautifulsoup/\n",
      "/source/software/BeautifulSoup/index.bhtml\n",
      "/self/\n",
      "/self/contact.html\n",
      "http://creativecommons.org/licenses/by-sa/2.0/\n",
      "http://creativecommons.org/licenses/by-sa/2.0/\n",
      "http://www.crummy.com/\n",
      "http://www.crummy.com/software/\n",
      "http://www.crummy.com/software/BeautifulSoup/\n"
     ]
    },
    {
     "data": {
      "text/plain": [
       "['https://code.launchpad.net/beautifulsoup',\n",
       " 'https://groups.google.com/forum/?fromgroups#!forum/beautifulsoup',\n",
       " 'http://www.candlemarkandgleam.com/shop/constellation-games/',\n",
       " 'http://constellation.crummy.com/Constellation%20Games%20excerpt.html',\n",
       " 'https://groups.google.com/forum/?fromgroups#!forum/beautifulsoup',\n",
       " 'https://bugs.launchpad.net/beautifulsoup/',\n",
       " 'http://lxml.de/',\n",
       " 'http://code.google.com/p/html5lib/',\n",
       " 'http://www.crummy.com/software/BeautifulSoup/bs3/documentation.html',\n",
       " 'http://www.nytimes.com/2007/10/25/arts/design/25vide.html',\n",
       " 'https://github.com/reddit/reddit/blob/85f9cff3e2ab9bb8f19b96acd8da4ebacc079f04/r2/r2/lib/media.py',\n",
       " 'http://www.harrowell.org.uk/viktormap.html',\n",
       " 'http://svn.python.org/view/tracker/importer/',\n",
       " 'http://www2.ljworld.com/',\n",
       " 'http://www.b-list.org/weblog/2010/nov/02/news-done-broke/',\n",
       " 'http://esrl.noaa.gov/gsd/fab/',\n",
       " 'http://laps.noaa.gov/topograbber/',\n",
       " 'http://groups.google.com/group/beautifulsoup/',\n",
       " 'https://launchpad.net/beautifulsoup',\n",
       " 'https://code.launchpad.net/beautifulsoup/',\n",
       " 'https://bugs.launchpad.net/beautifulsoup/',\n",
       " 'http://creativecommons.org/licenses/by-sa/2.0/',\n",
       " 'http://creativecommons.org/licenses/by-sa/2.0/',\n",
       " 'http://www.crummy.com/',\n",
       " 'http://www.crummy.com/software/',\n",
       " 'http://www.crummy.com/software/BeautifulSoup/']"
      ]
     },
     "execution_count": 105,
     "metadata": {},
     "output_type": "execute_result"
    }
   ],
   "source": [
    "#getting attribute i.e link values from a.\n",
    "\n",
    "first_tag = soup.findAll(\"a\") #find all gives all the <a> tags\n",
    "\n",
    "for entry in first_tag: # for all the entries in first tagb\n",
    "   if (entry.get(\"href\", None)) :\n",
    "        #Stupid thing throws an exception if the href value is empty\n",
    "        #bypass the stupid exception.\n",
    "    print(entry.get(\"href\")) #print the value for href\n",
    "    \n",
    "#we want to get rid of things that not http link\n",
    "ext_links = [] #empty list to get external link\n",
    "for entry in first_tag:\n",
    "    if(entry.get('href',None)):\n",
    "        if(entry.get('href')[:4] ==\"http\"):\n",
    "            ext_links.append(entry.get(\"href\"))\n",
    "\n",
    "ext_links"
   ]
  },
  {
   "cell_type": "code",
   "execution_count": null,
   "metadata": {
    "collapsed": true
   },
   "outputs": [],
   "source": []
  }
 ],
 "metadata": {
  "kernelspec": {
   "display_name": "Python 3",
   "language": "python",
   "name": "python3"
  },
  "language_info": {
   "codemirror_mode": {
    "name": "ipython",
    "version": 3
   },
   "file_extension": ".py",
   "mimetype": "text/x-python",
   "name": "python",
   "nbconvert_exporter": "python",
   "pygments_lexer": "ipython3",
   "version": "3.5.1"
  }
 },
 "nbformat": 4,
 "nbformat_minor": 0
}
